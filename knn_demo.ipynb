{
 "cells": [
  {
   "cell_type": "code",
   "execution_count": 1,
   "metadata": {},
   "outputs": [],
   "source": [
    "from __future__ import print_function\n",
    "import sklearn\n",
    "import sklearn.datasets\n",
    "import sklearn.ensemble\n",
    "import numpy as np\n",
    "import lime.lime_knn_tabular\n",
    "from sklearn.preprocessing import StandardScaler\n",
    "import subprocess\n",
    "\n",
    "from IPython.core.display import display, HTML\n",
    "\n",
    "np.random.seed(1)"
   ]
  },
  {
   "cell_type": "code",
   "execution_count": 2,
   "metadata": {},
   "outputs": [
    {
     "name": "stderr",
     "output_type": "stream",
     "text": [
      "/anaconda3/lib/python3.6/site-packages/sklearn/model_selection/_split.py:2179: FutureWarning: From version 0.21, test_size will always complement train_size unless both are specified.\n",
      "  FutureWarning)\n"
     ]
    }
   ],
   "source": [
    "#Load the IRIS dataset, and convert into 80-20 train-test split\n",
    "iris = sklearn.datasets.load_iris()\n",
    "train, test, labels_train, labels_test = sklearn.model_selection.train_test_split(iris.data, iris.target, train_size=0.80)"
   ]
  },
  {
   "cell_type": "code",
   "execution_count": 3,
   "metadata": {},
   "outputs": [],
   "source": [
    "#Scale the data to 0 mean and 1 standard deviation\n",
    "scalar = StandardScaler()\n",
    "scalar.fit(train)\n",
    "train = scalar.transform(train)\n",
    "test = scalar.transform(test)"
   ]
  },
  {
   "cell_type": "code",
   "execution_count": 4,
   "metadata": {},
   "outputs": [
    {
     "data": {
      "text/plain": [
       "0.9666666666666667"
      ]
     },
     "execution_count": 4,
     "metadata": {},
     "output_type": "execute_result"
    }
   ],
   "source": [
    "#Learn a Random forest classifier. What we use here does not matter since LIME is model-agnostic\n",
    "rf = sklearn.ensemble.RandomForestClassifier(n_estimators=500)\n",
    "rf.fit(train, labels_train)\n",
    "sklearn.metrics.accuracy_score(labels_test, rf.predict(test))"
   ]
  },
  {
   "cell_type": "code",
   "execution_count": 5,
   "metadata": {},
   "outputs": [],
   "source": [
    "#Get an explanation from LIME-KNN, in the form of an HTML page string.\n",
    "explanation = lime.lime_knn_tabular.explainInstanceUsingKNN(originalClassifier=rf,instancePoint=test[0],num_samples=1000,num_neighbours=5,feature_names=iris.feature_names,class_names=iris.target_names,dataPointInterpretation=\"Iris Flower\",scalar=scalar)"
   ]
  },
  {
   "cell_type": "code",
   "execution_count": 6,
   "metadata": {},
   "outputs": [
    {
     "data": {
      "text/html": [
       "<!DOCTYPE html>\n",
       "\t<html>\n",
       "\t<head>\n",
       "\t<link rel=\"stylesheet\" type=\"text/css\" href=\"knn_visualize.css\">\n",
       "\t</head>\n",
       "\t<body>\n",
       "\t<button class=\"collapsible\">Iris Flower to explain.</button><div class=\"content\"><b>sepal length (cm)</b> : 5.8<br><b>sepal width (cm)</b> : 4.0<br><b>petal length (cm)</b> : 1.2<br><b>petal width (cm)</b> : 0.2<br></div><h1> Reason for classification as setosa is that it is similar to these other setosas:</h1><button class=\"collapsible\">Iris Flower 0</button><div class=\"content\"><b>sepal length (cm)</b> : 5.86<br><b>sepal width (cm)</b> : 3.99<br><b>petal length (cm)</b> : 1.18<br><b>petal width (cm)</b> : 0.22<br></div><button class=\"collapsible\">Iris Flower 1</button><div class=\"content\"><b>sepal length (cm)</b> : 5.9<br><b>sepal width (cm)</b> : 4.0<br><b>petal length (cm)</b> : 1.07<br><b>petal width (cm)</b> : 0.18<br></div><button class=\"collapsible\">Iris Flower 2</button><div class=\"content\"><b>sepal length (cm)</b> : 5.66<br><b>sepal width (cm)</b> : 4.0<br><b>petal length (cm)</b> : 1.24<br><b>petal width (cm)</b> : 0.2<br></div><button class=\"collapsible\">Iris Flower 3</button><div class=\"content\"><b>sepal length (cm)</b> : 5.8<br><b>sepal width (cm)</b> : 3.96<br><b>petal length (cm)</b> : 1.39<br><b>petal width (cm)</b> : 0.29<br></div><button class=\"collapsible\">Iris Flower 4</button><div class=\"content\"><b>sepal length (cm)</b> : 5.84<br><b>sepal width (cm)</b> : 3.98<br><b>petal length (cm)</b> : 1.01<br><b>petal width (cm)</b> : 0.08<br></div><script src=\"knn_visualize.js\"></script></body></html>"
      ],
      "text/plain": [
       "<IPython.core.display.HTML object>"
      ]
     },
     "metadata": {},
     "output_type": "display_data"
    }
   ],
   "source": [
    "#Display the HTML page\n",
    "display(HTML(explanation))"
   ]
  },
  {
   "cell_type": "code",
   "execution_count": null,
   "metadata": {},
   "outputs": [],
   "source": []
  }
 ],
 "metadata": {
  "kernelspec": {
   "display_name": "Python 3",
   "language": "python",
   "name": "python3"
  },
  "language_info": {
   "codemirror_mode": {
    "name": "ipython",
    "version": 3
   },
   "file_extension": ".py",
   "mimetype": "text/x-python",
   "name": "python",
   "nbconvert_exporter": "python",
   "pygments_lexer": "ipython3",
   "version": "3.6.8"
  }
 },
 "nbformat": 4,
 "nbformat_minor": 2
}
